{
 "cells": [
  {
   "cell_type": "markdown",
   "id": "c19412e6",
   "metadata": {},
   "source": [
    "# Group 10\n",
    " \n",
    "## Group Members: Ilia, Mai, Martin, Ryan\n",
    "\n",
    "_______________________________________________________________________________________________________________________________ \n",
    " "
   ]
  },
  {
   "cell_type": "markdown",
   "id": "2b527eaf",
   "metadata": {},
   "source": [
    "# Overview\n",
    "\n",
    "Our group is using pandas to import two datasets to clean and transform them before loading them into PostgresSQL. The two datasets are a csv files from Kaggle, one is drinks.csv and the second one is unemployment analysis.csv. \n",
    "\n",
    "Since the data for drinks.csv is for the year 2010, we decided to clean the Unemployment Analysis.csv and select picked the year 2010. then merged the two datasets together to form the new dataframe. Both datasets showed 153 countries on alcohol consumption and unemployment rate.\n",
    "\n"
   ]
  },
  {
   "cell_type": "code",
   "execution_count": null,
   "id": "e5ef274b",
   "metadata": {},
   "outputs": [],
   "source": [
    "# Dependencies and Setup\n",
    "import pandas as pd\n",
    "import numpy as np\n",
    "from sqlalchemy import create_engine, inspect"
   ]
  },
  {
   "cell_type": "markdown",
   "id": "4d023e40",
   "metadata": {},
   "source": [
    "# Extract\n",
    "\n",
    "Our group imported two csv data, drinks.csv, and unemployment analysis.csv to use for this project. The two datasets were stored in our repository in the folder name data."
   ]
  },
  {
   "cell_type": "code",
   "execution_count": null,
   "id": "4477a4c9",
   "metadata": {},
   "outputs": [],
   "source": [
    "# Store file path in a variable\n",
    "drinks = \"data/drinks.csv\"\n",
    "unemployment = \"data/unemployment analysis.csv\""
   ]
  },
  {
   "cell_type": "code",
   "execution_count": null,
   "id": "d9ddc99a",
   "metadata": {},
   "outputs": [],
   "source": [
    "# Read our Data file with pandas library\n",
    "drinks_df = pd.read_csv(drinks)\n",
    "unemployment_df = pd.read_csv(unemployment)"
   ]
  },
  {
   "cell_type": "code",
   "execution_count": null,
   "id": "70516953",
   "metadata": {},
   "outputs": [],
   "source": [
    "# Show Drinks dataframe\n",
    "drinks_df.head()\n"
   ]
  },
  {
   "cell_type": "code",
   "execution_count": null,
   "id": "9899d798",
   "metadata": {},
   "outputs": [],
   "source": [
    "# Show unemployment dataframe\n",
    "unemployment_df.rename(columns={'Country Name':'country'}, inplace=True)"
   ]
  },
  {
   "cell_type": "code",
   "execution_count": null,
   "id": "6570ff83",
   "metadata": {},
   "outputs": [],
   "source": [
    "# Change a name of the countries in drinks_df\n",
    "drinks_df[\"country\"] = drinks_df[\"country\"].replace({'USA':'United States of America', 'Russian Federation':'Russia', 'Congo':'Republic of Congo', 'DR Congo':'Democratic Republic of the Congo', 'Tanzania':'United Republic of Tanzania', 'Somalia':'Somaliland'})"
   ]
  },
  {
   "cell_type": "code",
   "execution_count": null,
   "id": "687ff972",
   "metadata": {},
   "outputs": [],
   "source": [
    "# Change a name of the countries in unemployment_df\n",
    "unemployment_df[\"country\"] = unemployment_df[\"country\"].replace({'United States':'United States of America',  'Russian Federation':'Russia', 'Egypt, Arab Rep.':'Egypt', 'Congo, Rep.':'Republic of Congo', 'Congo, Dem. Rep.':'Democratic Republic of the Congo', 'Tanzania':'United Republic of Tanzania', 'Somalia':'Somaliland', 'Turkiye':'Turkey', 'Venezuela, RB':'Venezuela', 'Iran, Islamic Rep.':'Iran'})"
   ]
  },
  {
   "cell_type": "code",
   "execution_count": null,
   "id": "1eb5a3f4",
   "metadata": {},
   "outputs": [],
   "source": [
    "# Reference multiple columns within a dataframe\n",
    "cleaned_unemployment_df = unemployment_df[['country', 'Country Code', '2010']]"
   ]
  },
  {
   "cell_type": "code",
   "execution_count": null,
   "id": "50bd00cc",
   "metadata": {},
   "outputs": [],
   "source": [
    "# Show Cleaned Unemployment dataframe\n",
    "cleaned_unemployment_df"
   ]
  },
  {
   "cell_type": "code",
   "execution_count": null,
   "id": "3eaa353c",
   "metadata": {},
   "outputs": [],
   "source": [
    "# dropping all entries for countries not found in the 'drinks_df' dataframe\n",
    "trimmed_data = cleaned_unemployment_df[cleaned_unemployment_df.country.isin(drinks_df.country)]\n",
    "trimmed_data "
   ]
  },
  {
   "cell_type": "code",
   "execution_count": null,
   "id": "7d4b826a",
   "metadata": {},
   "outputs": [],
   "source": [
    "# Merge the Drinks and unemployment dataframes\n",
    "cleaned_df = drinks_df.merge(cleaned_unemployment_df, how='inner', on='country')"
   ]
  },
  {
   "cell_type": "code",
   "execution_count": null,
   "id": "da417da3",
   "metadata": {},
   "outputs": [],
   "source": [
    "cleaned_df"
   ]
  },
  {
   "cell_type": "code",
   "execution_count": null,
   "id": "88825924",
   "metadata": {},
   "outputs": [],
   "source": [
    "# Renamed columns\n",
    "cleaned_combined_data = cleaned_df.rename(columns={\"2010\" : \"unemployment_rate\", \"Country Code\" : \"Country_Code\"})\n",
    "cleaned_combined_data"
   ]
  },
  {
   "cell_type": "code",
   "execution_count": null,
   "id": "f619e4f2",
   "metadata": {},
   "outputs": [],
   "source": [
    "# Remove 'Country_Code' column\n",
    "cleaned_combined_data.drop('Country_Code', axis=1, inplace=True)\n",
    "cleaned_combined_data"
   ]
  },
  {
   "cell_type": "code",
   "execution_count": null,
   "id": "920fc38f",
   "metadata": {},
   "outputs": [],
   "source": [
    "# Set Country column as an index\n",
    "cleaned_combined_data.set_index('country')"
   ]
  },
  {
   "cell_type": "code",
   "execution_count": null,
   "id": "61d2789e",
   "metadata": {},
   "outputs": [],
   "source": [
    "# save cleaned datasets to 'cleaned-datasets' directory\n",
    "cleaned_combined_data.to_csv('cleaned-datasets/cleaned_combined_data.csv', index=False)\n"
   ]
  },
  {
   "cell_type": "code",
   "execution_count": null,
   "id": "0e72946b",
   "metadata": {},
   "outputs": [],
   "source": [
    "# Create database connection\n",
    "protocol = 'postgresql'\n",
    "username = 'postgres'\n",
    "password = 'bootcamp'\n",
    "host = 'localhost'\n",
    "port = 5432\n",
    "database_name = 'AlcoholUnemployment_db'\n",
    "rds_connection_string = f'{protocol}://{username}:{password}@{host}:{port}/{database_name}'\n",
    "engine = create_engine(rds_connection_string)"
   ]
  },
  {
   "cell_type": "code",
   "execution_count": null,
   "id": "761beaa7",
   "metadata": {},
   "outputs": [],
   "source": [
    "# Confirm tables\n",
    "inspector = inspect(engine)\n",
    "inspector.get_table_names()"
   ]
  },
  {
   "cell_type": "code",
   "execution_count": null,
   "id": "b3e1a2f0",
   "metadata": {},
   "outputs": [],
   "source": [
    "cleaned_combined_data.to_sql(name='cleaned_combined_data', con=engine, if_exists='append', index=False)"
   ]
  },
  {
   "cell_type": "code",
   "execution_count": null,
   "id": "233a5a6f",
   "metadata": {},
   "outputs": [],
   "source": []
  }
 ],
 "metadata": {
  "kernelspec": {
   "display_name": "Python 3 (ipykernel)",
   "language": "python",
   "name": "python3"
  },
  "language_info": {
   "codemirror_mode": {
    "name": "ipython",
    "version": 3
   },
   "file_extension": ".py",
   "mimetype": "text/x-python",
   "name": "python",
   "nbconvert_exporter": "python",
   "pygments_lexer": "ipython3",
   "version": "3.8.13"
  }
 },
 "nbformat": 4,
 "nbformat_minor": 5
}
